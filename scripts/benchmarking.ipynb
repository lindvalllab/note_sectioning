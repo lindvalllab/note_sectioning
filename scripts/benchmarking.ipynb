{
 "cells": [
  {
   "cell_type": "code",
   "execution_count": null,
   "metadata": {},
   "outputs": [],
   "source": [
    "import pandas as pd\n",
    "import json\n",
    "from utils.fine_tuning import process_dataframe\n",
    "from IPython.display import display"
   ]
  },
  {
   "cell_type": "code",
   "execution_count": null,
   "metadata": {},
   "outputs": [],
   "source": [
    "model = \"Llama-3.2-3B-Instruct\"\n",
    "source = \"fine_tuned\"  # vanilla, fine_tuned"
   ]
  },
  {
   "cell_type": "code",
   "execution_count": null,
   "metadata": {},
   "outputs": [],
   "source": [
    "working_dir = f\"results/{source}/{model}\""
   ]
  },
  {
   "cell_type": "code",
   "execution_count": null,
   "metadata": {},
   "outputs": [],
   "source": [
    "df_Breast = pd.read_csv(f\"{working_dir}/Breast_output.csv\")\n",
    "df_Neuro = pd.read_csv(f\"{working_dir}/Neuro_output.csv\")\n",
    "df_GI = pd.read_csv(f\"{working_dir}/GI_output.csv\")"
   ]
  },
  {
   "cell_type": "code",
   "execution_count": null,
   "metadata": {},
   "outputs": [],
   "source": [
    "print(f\"{'-'*20} BREAST {'-'*20}\")\n",
    "display(process_dataframe(df_Breast))\n",
    "\n",
    "print(\"\\n\")\n",
    "\n",
    "print(f\"{'-'*20} GI {'-'*20}\")\n",
    "display(process_dataframe(df_GI))\n",
    "\n",
    "print(\"\\n\")\n",
    "\n",
    "print(f\"{'-'*20} NEURO {'-'*20}\")\n",
    "display(process_dataframe(df_Neuro))"
   ]
  },
  {
   "cell_type": "code",
   "execution_count": null,
   "metadata": {},
   "outputs": [],
   "source": []
  }
 ],
 "metadata": {
  "kernelspec": {
   "display_name": "unsloth_env",
   "language": "python",
   "name": "python3"
  },
  "language_info": {
   "codemirror_mode": {
    "name": "ipython",
    "version": 3
   },
   "file_extension": ".py",
   "mimetype": "text/x-python",
   "name": "python",
   "nbconvert_exporter": "python",
   "pygments_lexer": "ipython3",
   "version": "3.11.10"
  }
 },
 "nbformat": 4,
 "nbformat_minor": 2
}
