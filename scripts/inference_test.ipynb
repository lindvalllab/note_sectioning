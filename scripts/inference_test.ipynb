{
 "cells": [
  {
   "cell_type": "code",
   "execution_count": null,
   "metadata": {},
   "outputs": [],
   "source": [
    "import pandas as pd\n",
    "import sys\n",
    "sys.path.append('../')\n",
    "from src.llmwrapper import LLMWrapper\n",
    "from src.labelprocessor import LabelProcessor\n",
    "from utils.loader import load_data\n",
    "from utils.structs import IntervalHistoryOutput\n",
    "from environs import Env\n",
    "env = Env()\n",
    "env.read_env('../.env')\n",
    "study_path = env(\"STUDY_PATH\")"
   ]
  },
  {
   "cell_type": "code",
   "execution_count": null,
   "metadata": {},
   "outputs": [],
   "source": [
    "# Load data\n",
    "type = \"GI\"\n",
    "studies_folder = f\"{study_path}/{type}/CSV/\"\n",
    "j_df, k_df = load_data(studies_folder)\n",
    "\n",
    "# Process labels and calculate accuracy\n",
    "processor = LabelProcessor(k_df, j_df)\n",
    "result_df = processor.process()\n",
    "gt_df = processor.generate_gt()  # Ground truth DataFrame"
   ]
  },
  {
   "cell_type": "code",
   "execution_count": 3,
   "metadata": {},
   "outputs": [],
   "source": [
    "gt_df = gt_df.iloc[:20].copy(deep=True)"
   ]
  },
  {
   "cell_type": "code",
   "execution_count": 4,
   "metadata": {},
   "outputs": [],
   "source": [
    "main_prompt = \"\"\"You are a helpful assistant with a strong clinical background in oncology. \n",
    "You know that medical notes are generally organized in sections, and your task is to find \n",
    "the part of the note corresponding to the section containing the History of present illness and \n",
    "the Interval history. You should organize this information in a json file that will contain a \n",
    "dictionary with two keys: start_string, and end_string. start_string \n",
    "should contain the 5 first words of the HPI_Interval_Hx section, and end_string should \n",
    "contain the last 5 words of the HPI_Interval_Hx section. Here is the medical note: \"\"\""
   ]
  },
  {
   "cell_type": "code",
   "execution_count": null,
   "metadata": {},
   "outputs": [],
   "source": [
    "model_params_local = {\n",
    "    'model_path': '../models/llama-3.2-3b-instruct-q8_0.gguf',\n",
    "    'ngl': 1000,\n",
    "    'temp': 0\n",
    "}\n",
    "grammar_file = '../utils/HPI_grammar.json'"
   ]
  },
  {
   "cell_type": "code",
   "execution_count": 6,
   "metadata": {},
   "outputs": [],
   "source": [
    "llm_wrapper = LLMWrapper(\n",
    "    prompt=main_prompt,\n",
    "    llm_type='local',  # or 'api' for API-based LLMs\n",
    "    model_params=model_params_local,\n",
    "    context_window=8192,\n",
    "    dataset_name=type,\n",
    "    output_dir=f'../outputs/{type}/',  # Adjusted output directory\n",
    "    grammar_file=grammar_file,\n",
    "    processor=processor  # Pass the processor instance\n",
    ")"
   ]
  },
  {
   "cell_type": "code",
   "execution_count": null,
   "metadata": {},
   "outputs": [],
   "source": [
    "updated_df = llm_wrapper.generate_llm_outputs(gt_df)"
   ]
  }
 ],
 "metadata": {
  "kernelspec": {
   "display_name": "notesectioning",
   "language": "python",
   "name": "python3"
  },
  "language_info": {
   "codemirror_mode": {
    "name": "ipython",
    "version": 3
   },
   "file_extension": ".py",
   "mimetype": "text/x-python",
   "name": "python",
   "nbconvert_exporter": "python",
   "pygments_lexer": "ipython3",
   "version": "3.12.6"
  }
 },
 "nbformat": 4,
 "nbformat_minor": 2
}
