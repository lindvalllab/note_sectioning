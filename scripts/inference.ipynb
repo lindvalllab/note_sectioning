{
 "cells": [
  {
   "cell_type": "code",
   "execution_count": null,
   "metadata": {},
   "outputs": [],
   "source": [
    "import pandas as pd\n",
    "from unsloth import FastLanguageModel\n",
    "from utils import inference\n",
    "import os"
   ]
  },
  {
   "cell_type": "code",
   "execution_count": null,
   "metadata": {},
   "outputs": [],
   "source": [
    "model_name = \"models/fine_tuned/Llama-3.2-3B-Instruct\""
   ]
  },
  {
   "cell_type": "code",
   "execution_count": null,
   "metadata": {},
   "outputs": [],
   "source": [
    "def list_folders_os(directory_path):\n",
    "    try:\n",
    "        # List all entries in the directory\n",
    "        entries = os.listdir(directory_path)\n",
    "        # Filter out directories\n",
    "        folders = [entry for entry in entries if os.path.isdir(os.path.join(directory_path, entry))]\n",
    "        return folders\n",
    "    except FileNotFoundError:\n",
    "        print(f\"The directory {directory_path} does not exist.\")\n",
    "        return []\n",
    "    except PermissionError:\n",
    "        print(f\"Permission denied for accessing {directory_path}.\")\n",
    "        return []\n",
    "\n",
    "# Usage\n",
    "directory = \"models/fine_tuned/\"\n",
    "folders = list_folders_os(directory)\n",
    "print(\"Folders:\", folders)"
   ]
  },
  {
   "cell_type": "code",
   "execution_count": null,
   "metadata": {},
   "outputs": [],
   "source": [
    "origin = model_name.split(\"/\", 1)[0]\n",
    "if origin == \"unsloth\":\n",
    "    output_folder = f\"results/vanilla/{model_name.split('/', 1)[1]}\"\n",
    "elif origin == \"fine_tuned\":\n",
    "    output_folder = f\"results/fine_tuned/{model_name.split('/', 1)[1]}\"\n",
    "os.makedirs(output_folder, exist_ok=True)"
   ]
  },
  {
   "cell_type": "code",
   "execution_count": null,
   "metadata": {},
   "outputs": [],
   "source": [
    "max_seq_length = 16384 # Choose any! We auto support RoPE Scaling internally!\n",
    "dtype = None # None for auto detection. Float16 for Tesla T4, V100, Bfloat16 for Ampere\n",
    "load_in_4bit = True # Use 4bit quantization to reduce memory usage. Can be False\n",
    "\"\\n\",\n",
    "model, tokenizer = FastLanguageModel.from_pretrained(\n",
    "    model_name = model_name, # YOUR MODEL YOU USED FOR TRAINING\n",
    "    max_seq_length = max_seq_length,\n",
    "    dtype = dtype,\n",
    "    load_in_4bit = load_in_4bit,\n",
    ")\n",
    "FastLanguageModel.for_inference(model) # Enable native 2x faster inference\""
   ]
  },
  {
   "cell_type": "code",
   "execution_count": null,
   "metadata": {},
   "outputs": [],
   "source": [
    "df_Breast = pd.read_csv('../data/gt_processed/Breast_gs_processed.csv')\n",
    "df_GI = pd.read_csv('../data/gt_processed/GI_gs_processed.csv')\n",
    "df_Neuro = pd.read_csv('../data/gt_processed/Neuro_gs_processed.csv')"
   ]
  },
  {
   "cell_type": "code",
   "execution_count": null,
   "metadata": {},
   "outputs": [],
   "source": [
    "inference(df_Breast, tokenizer, model, f\"{output_folder}/Breast_output.csv\")\n",
    "inference(df_GI, tokenizer, model, f\"{output_folder}/GI_output.csv\")\n",
    "inference(df_Neuro, tokenizer, model, f\"{output_folder}/Neuro_output.csv\")"
   ]
  },
  {
   "cell_type": "code",
   "execution_count": null,
   "metadata": {},
   "outputs": [],
   "source": []
  }
 ],
 "metadata": {
  "kernelspec": {
   "display_name": "unsloth_env",
   "language": "python",
   "name": "python3"
  },
  "language_info": {
   "codemirror_mode": {
    "name": "ipython",
    "version": 3
   },
   "file_extension": ".py",
   "mimetype": "text/x-python",
   "name": "python",
   "nbconvert_exporter": "python",
   "pygments_lexer": "ipython3",
   "version": "3.11.10"
  }
 },
 "nbformat": 4,
 "nbformat_minor": 2
}
